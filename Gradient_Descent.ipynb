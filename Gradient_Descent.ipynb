{
  "nbformat": 4,
  "nbformat_minor": 0,
  "metadata": {
    "celltoolbar": "Aucun(e)",
    "kernelspec": {
      "display_name": "Python 3",
      "language": "python",
      "name": "python3"
    },
    "language_info": {
      "codemirror_mode": {
        "name": "ipython",
        "version": 3
      },
      "file_extension": ".py",
      "mimetype": "text/x-python",
      "name": "python",
      "nbconvert_exporter": "python",
      "pygments_lexer": "ipython3",
      "version": "3.6.6"
    },
    "colab": {
      "name": "Gradient Descent",
      "provenance": [],
      "include_colab_link": true
    }
  },
  "cells": [
    {
      "cell_type": "markdown",
      "metadata": {
        "id": "view-in-github",
        "colab_type": "text"
      },
      "source": [
        "<a href=\"https://colab.research.google.com/github/thinkdeepai/reinforcement-learning-training/blob/master/Gradient_Descent.ipynb\" target=\"_parent\"><img src=\"https://colab.research.google.com/assets/colab-badge.svg\" alt=\"Open In Colab\"/></a>"
      ]
    },
    {
      "cell_type": "markdown",
      "metadata": {
        "id": "6-j1SgKdfD24",
        "colab_type": "text"
      },
      "source": [
        "### Chargement des diverses librairies utiles pour ce notebook "
      ]
    },
    {
      "cell_type": "code",
      "metadata": {
        "id": "xH--ErpXfD25",
        "colab_type": "code",
        "colab": {}
      },
      "source": [
        "# chargement de bibliothéques \n",
        "\"\"\"\n",
        "instruction specifique pour utiliser matplotlib dans un notebook \n",
        "quand on utilise les notebooks Jupyter pour utiliser Matplotlib\n",
        "\"\"\"\n",
        "%matplotlib inline  \n",
        "import pandas as pd\n",
        "import matplotlib.pyplot as plt\n",
        "from scipy import stats"
      ],
      "execution_count": 0,
      "outputs": []
    },
    {
      "cell_type": "markdown",
      "metadata": {
        "id": "jR2hrR1RfD3J",
        "colab_type": "text"
      },
      "source": [
        "## Chargement du jeu de données"
      ]
    },
    {
      "cell_type": "code",
      "metadata": {
        "id": "R3bpeapZfD3M",
        "colab_type": "code",
        "colab": {}
      },
      "source": [
        "df = pd.read_csv(\"univariate_linear_regression_dataset.csv\")"
      ],
      "execution_count": 0,
      "outputs": []
    },
    {
      "cell_type": "code",
      "metadata": {
        "scrolled": false,
        "id": "Gv4pLeBsfD3W",
        "colab_type": "code",
        "colab": {}
      },
      "source": [
        "X =  df.iloc[:,0] #selection de la première colonne de notre dataset (indice 0)\n",
        "Y =  df.iloc[:,1] #selection de la première colonne de notre dataset (indice 1)"
      ],
      "execution_count": 0,
      "outputs": []
    },
    {
      "cell_type": "markdown",
      "metadata": {
        "id": "a6TXjbVrfD3g",
        "colab_type": "text"
      },
      "source": [
        "### Visualisation du jeu de données"
      ]
    },
    {
      "cell_type": "code",
      "metadata": {
        "scrolled": true,
        "id": "zlTPHChmfD3j",
        "colab_type": "code",
        "outputId": "b0a89d28-43aa-4477-dce2-9d1ac692f3ba",
        "colab": {
          "base_uri": "https://localhost:8080/",
          "height": 266
        }
      },
      "source": [
        "axes = plt.axes()\n",
        "axes.grid()\n",
        "plt.scatter(X,Y)\n",
        "plt.show()"
      ],
      "execution_count": 16,
      "outputs": [
        {
          "output_type": "display_data",
          "data": {
            "image/png": "[encoded data removed]",
            "text/plain": [
              "<Figure size 432x288 with 1 Axes>"
            ]
          },
          "metadata": {
            "tags": []
          }
        }
      ]
    },
    {
      "cell_type": "markdown",
      "metadata": {
        "id": "s34bEdlifD3p",
        "colab_type": "text"
      },
      "source": [
        "### Entrainement d'un modèle de régression linéaire\n"
      ]
    },
    {
      "cell_type": "markdown",
      "metadata": {
        "id": "UcLjGUqafD3q",
        "colab_type": "text"
      },
      "source": [
        "Note : \n",
        "\n",
        "On peut utiliser le module librairie SciPy (Scientific Python) pour implémenter une régression linéaire. Le sous package stats propose la fonction linregress qui calcul une régression à partir d'un jeu de donnée d'entrainement "
      ]
    },
    {
      "cell_type": "code",
      "metadata": {
        "id": "0fnDe1_nfD3s",
        "colab_type": "code",
        "colab": {}
      },
      "source": [
        "slope, intercept, r_value, p_value, std_err = stats.linregress(X, Y)"
      ],
      "execution_count": 0,
      "outputs": []
    },
    {
      "cell_type": "markdown",
      "metadata": {
        "id": "WpGV0vKbfD3v",
        "colab_type": "text"
      },
      "source": [
        "### Modèle obtenu\n",
        "\n",
        "Le fonction de prédiction pour une régression linéaire univariée est comme suit :\n",
        "\n",
        "\n",
        "\\begin{align}\n",
        "H(x) = intercept + slope * x\n",
        "\\end{align}\n",
        "\n",
        "avec :\n",
        "* $slope$ : représente la \"pente\" de la line de prédiction \n",
        "* $intercept$ : représente le point d'intersection avec l'axe des ordonnées\n",
        "\n",
        "\n",
        "Les coefficients de notre fonction de prédiction ont déjà été calculé et valent : \n"
      ]
    },
    {
      "cell_type": "code",
      "metadata": {
        "id": "1KN2GOPtfD3w",
        "colab_type": "code",
        "outputId": "155a2526-5133-4793-98b8-99f4db967dd1",
        "colab": {
          "base_uri": "https://localhost:8080/",
          "height": 34
        }
      },
      "source": [
        "slope, intercept"
      ],
      "execution_count": 18,
      "outputs": [
        {
          "output_type": "execute_result",
          "data": {
            "text/plain": [
              "(1.2135472539083585, -4.211504005424089)"
            ]
          },
          "metadata": {
            "tags": []
          },
          "execution_count": 18
        }
      ]
    },
    {
      "cell_type": "markdown",
      "metadata": {
        "id": "gu21qRERfD3z",
        "colab_type": "text"
      },
      "source": [
        "Ainsi notre fonction $H(X)$ se décrit comme suit : \n",
        "\n",
        "\\begin{align}\n",
        "H(X) = -4.211504005424089 + 1.2135472539083585 * X\n",
        "\\end{align}\n",
        "\n",
        "note : \n",
        "* les valeurs de $slope$ et $intercept$ peuvent variées un peu en fonction des valeurs calculées par la fonction linregress et la précision de nombres flottants."
      ]
    },
    {
      "cell_type": "markdown",
      "metadata": {
        "id": "7v0Zb1LAfD30",
        "colab_type": "text"
      },
      "source": [
        "## Ecriture de la fonction de prédiction avec Python\n",
        "\n",
        "Vu qu'on dispose de notre fonction des coefficients de notre fonction de prédiction, on peut l'écrire en python."
      ]
    },
    {
      "cell_type": "code",
      "metadata": {
        "id": "97rO-P-3fD31",
        "colab_type": "code",
        "colab": {}
      },
      "source": [
        "# définition de quatre observations\n",
        "def predict(x):\n",
        "    return slope * x + intercept"
      ],
      "execution_count": 0,
      "outputs": []
    },
    {
      "cell_type": "markdown",
      "metadata": {
        "id": "AXQ0yD9hfD33",
        "colab_type": "text"
      },
      "source": [
        "## Dessiner la fonction de prédiction (optionnel)\n",
        "\n",
        "On peut utiliser la fonction de prédiction qu'on vient de définir pour avoir la valeur prédite par la fonction hypothèse pour chacune des observations de notre jeu d'entrainement. Ainsi on pourra voir visuellement à comment la fonction de prédiction \"approche\" le jeu d'entrainement et qu'elle est par conséquent une bonne fonction de prédiction."
      ]
    },
    {
      "cell_type": "code",
      "metadata": {
        "id": "Rh4IbEDCfD34",
        "colab_type": "code",
        "outputId": "e1b37ede-eda8-422b-8618-ecd9b88639f2",
        "colab": {
          "base_uri": "https://localhost:8080/",
          "height": 266
        }
      },
      "source": [
        "axes = plt.axes()\n",
        "axes.grid()\n",
        "plt.scatter(X,Y)\n",
        "fitLine = predict(X)\n",
        "plt.plot(X, fitLine, c='r')\n",
        "plt.show()"
      ],
      "execution_count": 20,
      "outputs": [
        {
          "output_type": "display_data",
          "data": {
            "image/png": "[encoded data removed]",
            "text/plain": [
              "<Figure size 432x288 with 1 Axes>"
            ]
          },
          "metadata": {
            "tags": []
          }
        }
      ]
    },
    {
      "cell_type": "markdown",
      "metadata": {
        "id": "lyoVhFODfD37",
        "colab_type": "text"
      },
      "source": [
        "## Prédiction d'une nouvelle observation\n",
        "\n",
        "On voit que pour pour la valeur x = 22.5, la valeur de y pour est environ 25. Utilisons la fonction $predict$ pour trouver une estimation de $H(x = 22.5)$"
      ]
    },
    {
      "cell_type": "code",
      "metadata": {
        "id": "R4vCP3szfD37",
        "colab_type": "code",
        "outputId": "deef830d-404a-48a5-ddaa-44032001274c",
        "colab": {
          "base_uri": "https://localhost:8080/",
          "height": 34
        }
      },
      "source": [
        "predict(22.5)"
      ],
      "execution_count": 21,
      "outputs": [
        {
          "output_type": "execute_result",
          "data": {
            "text/plain": [
              "23.093309207513975"
            ]
          },
          "metadata": {
            "tags": []
          },
          "execution_count": 21
        }
      ]
    },
    {
      "cell_type": "markdown",
      "metadata": {
        "id": "S3hQg3fbfD3_",
        "colab_type": "text"
      },
      "source": [
        "Assez proche ! 22.5 $\\approx$ 23.09"
      ]
    },
    {
      "cell_type": "markdown",
      "metadata": {
        "id": "I7bvzaoghpd9",
        "colab_type": "text"
      },
      "source": [
        "## Implémentation manuelle Gradient Descent\n",
        "\n",
        "Par la suite on implémente manuellement l'algorithme de descente de gradient"
      ]
    },
    {
      "cell_type": "code",
      "metadata": {
        "id": "zrnTdVIFfD4A",
        "colab_type": "code",
        "colab": {}
      },
      "source": [
        "from __future__ import division\n",
        "# -*- coding: utf-8 -*-\n",
        "from numpy import *\n",
        "\n",
        "import matplotlib.animation as animation"
      ],
      "execution_count": 0,
      "outputs": []
    },
    {
      "cell_type": "code",
      "metadata": {
        "id": "eRqhB0qngs_Q",
        "colab_type": "code",
        "colab": {}
      },
      "source": [
        "def calculer_cost_function(theta_0, theta_1):\n",
        "    global_cost  = 0\n",
        "    for i in range(len(X)):\n",
        "        cost_i = ((theta_0 + (theta_1 * X[i])) - Y[i]) * ((theta_0 + (theta_1 * X[i])) - Y[i]) \n",
        "        global_cost+= cost_i\n",
        "    return (1/ (2 * len(X))) * global_cost"
      ],
      "execution_count": 0,
      "outputs": []
    },
    {
      "cell_type": "code",
      "metadata": {
        "id": "pz6jVT3Wgy89",
        "colab_type": "code",
        "colab": {}
      },
      "source": [
        "# a changer par votre chemin de fichier local\n",
        "df = pd.read_csv(\"univariate_linear_regression_dataset.csv\")\n",
        "\n",
        "X =  df.iloc[0:len(df),0] # une seule variable prédictive car régression univariée\n",
        "Y =  df.iloc[0:len(df),1] # valeurs observées (à prédire)\n",
        "\n",
        "# un tableau pour stocker les valeurs d'erreurs global à chaque tour d'itération\n",
        "COST_RECORDER = []\n",
        "\n",
        "# la taille de notre ensemble de données d'apprentissage\n",
        "M = len(X)\n",
        "\n",
        "learning_rate_ALPHA = float(0.0001)\n",
        "initial_theta_0 = float(0)\n",
        "initial_theta_1 = float(0)\n",
        "nombre_iterations = 2000"
      ],
      "execution_count": 0,
      "outputs": []
    },
    {
      "cell_type": "code",
      "metadata": {
        "id": "811jZRpig3zd",
        "colab_type": "code",
        "colab": {}
      },
      "source": [
        "def calculer_derivees_partielles(ancien_theta_0, ancien_theta_1):\n",
        "    derivee_theta_0 = float(0)\n",
        "    derivee_theta_1 = float(0)\n",
        "    for i in range(0, len(X)):\n",
        "        derivee_theta_0 += float(((ancien_theta_0 + (ancien_theta_1 * X[i])) - float(Y[i])))\n",
        "        derivee_theta_1 += (((ancien_theta_0 + (ancien_theta_1 * X[i]))) - float(Y[i])) * float(X[i])  \n",
        "    derivee_theta_0 = (1/M) * derivee_theta_0\n",
        "    derivee_theta_1 = (1/M) * derivee_theta_1\n",
        "    return [derivee_theta_0, derivee_theta_1]"
      ],
      "execution_count": 0,
      "outputs": []
    },
    {
      "cell_type": "code",
      "metadata": {
        "id": "OJBKBtyvg8pO",
        "colab_type": "code",
        "colab": {}
      },
      "source": [
        "def calculer_nouvelles_theta(ancien_theta_0, ancien_theta_1):\n",
        "    [derivee_theta_0, derivee_theta_1] = calculer_derivees_partielles(ancien_theta_0,ancien_theta_1)\n",
        "    nouvelle_theta_0 = ancien_theta_0 - (learning_rate_ALPHA * derivee_theta_0)\n",
        "    nouvelle_theta_1 = ancien_theta_1 - (learning_rate_ALPHA * derivee_theta_1)\n",
        "    COST_RECORDER.append(calculer_cost_function(nouvelle_theta_0, nouvelle_theta_1))\n",
        "    return [nouvelle_theta_0,nouvelle_theta_1]"
      ],
      "execution_count": 0,
      "outputs": []
    },
    {
      "cell_type": "code",
      "metadata": {
        "id": "8tlZvJWsg9XE",
        "colab_type": "code",
        "colab": {}
      },
      "source": [
        "def lancer_gradient_descent():\n",
        "    tmp_theta_0 = initial_theta_0\n",
        "    tmp_theta_1 = initial_theta_1   \n",
        "    for i in range(nombre_iterations):\n",
        "        [nouvelle_theta_0, nouvelle_theta_1] = calculer_nouvelles_theta(tmp_theta_0, tmp_theta_1)\n",
        "        tmp_theta_0 = nouvelle_theta_0\n",
        "        tmp_theta_1 = nouvelle_theta_1\n",
        "    return [tmp_theta_0, tmp_theta_1] "
      ],
      "execution_count": 0,
      "outputs": []
    },
    {
      "cell_type": "code",
      "metadata": {
        "id": "HVTO-urYhBmv",
        "colab_type": "code",
        "colab": {}
      },
      "source": [
        "[final_theta_0, final_theta_1] = lancer_gradient_descent()\n",
        "\n",
        "#print COST_RECORDER"
      ],
      "execution_count": 0,
      "outputs": []
    },
    {
      "cell_type": "code",
      "metadata": {
        "id": "4RlBGT8pghsU",
        "colab_type": "code",
        "colab": {
          "base_uri": "https://localhost:8080/",
          "height": 279
        },
        "outputId": "7d5caecd-8565-4b3d-8e9a-979e1410dee7"
      },
      "source": [
        "xx = []; yy=[]\n",
        "\n",
        "#dessiner l'avancer des differents de J(theta_0, theta_1)\n",
        "for i in range(len(COST_RECORDER)):\n",
        "   xx.append(i)\n",
        "   yy.append(COST_RECORDER[i])\n",
        "\n",
        "axes = plt.axes()\n",
        "axes.grid()\n",
        "plt.xlabel('Nombre d\\'iterations')\n",
        "plt.ylabel('Cout d\\'erreur global')\n",
        "plt.scatter(xx,yy)\n",
        "plt.show()"
      ],
      "execution_count": 12,
      "outputs": [
        {
          "output_type": "display_data",
          "data": {
            "image/png": "[encoded data removed]",
            "text/plain": [
              "<Figure size 432x288 with 1 Axes>"
            ]
          },
          "metadata": {
            "tags": []
          }
        }
      ]
    }
  ]
}