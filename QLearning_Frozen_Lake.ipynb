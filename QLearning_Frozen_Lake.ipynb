{
  "nbformat": 4,
  "nbformat_minor": 0,
  "metadata": {
    "kernelspec": {
      "display_name": "Python 3",
      "language": "python",
      "name": "python3"
    },
    "language_info": {
      "codemirror_mode": {
        "name": "ipython",
        "version": 3
      },
      "file_extension": ".py",
      "mimetype": "text/x-python",
      "name": "python",
      "nbconvert_exporter": "python",
      "pygments_lexer": "ipython3",
      "version": "3.6.4"
    },
    "colab": {
      "name": "QLearning Frozen Lake.ipynb",
      "provenance": [],
      "collapsed_sections": [],
      "include_colab_link": true
    }
  },
  "cells": [
    {
      "cell_type": "markdown",
      "metadata": {
        "id": "view-in-github",
        "colab_type": "text"
      },
      "source": [
        "<a href=\"https://colab.research.google.com/github/thinkdeepai/reinforcement-learning-training/blob/master/QLearning_Frozen_Lake.ipynb\" target=\"_parent\"><img src=\"https://colab.research.google.com/assets/colab-badge.svg\" alt=\"Open In Colab\"/></a>"
      ]
    },
    {
      "cell_type": "code",
      "metadata": {
        "id": "ruwCJBWx8nyy",
        "colab_type": "code",
        "colab": {}
      },
      "source": [
        "import gym\n",
        "import random\n",
        "import numpy as np\n",
        "import time, pickle, os"
      ],
      "execution_count": 0,
      "outputs": []
    },
    {
      "cell_type": "code",
      "metadata": {
        "id": "v2XOAonb8ny5",
        "colab_type": "code",
        "colab": {}
      },
      "source": [
        "env = gym.make('FrozenLake-v0')\n",
        "env.reset()\n",
        "epsilon = 0.9\n",
        "total_episodes = 10000\n",
        "max_steps = 100\n",
        "lr_rate = 0.81\n",
        "gamma = 0.96\n"
      ],
      "execution_count": 0,
      "outputs": []
    },
    {
      "cell_type": "code",
      "metadata": {
        "id": "CKP6c0iD8ny8",
        "colab_type": "code",
        "colab": {}
      },
      "source": [
        "def choose_action(state):\n",
        "    action=0\n",
        "    if np.random.uniform(0, 1) < epsilon:\n",
        "        action = env.action_space.sample()\n",
        "    else:\n",
        "        action = np.argmax(Q[state, :])\n",
        "    return action\n",
        "\n",
        "def old_learn(state, state2, reward, action):\n",
        "    predict = Q[state, action]\n",
        "    target = reward + gamma * np.max(Q[state2, :])\n",
        "    Q[state, action] = Q[state, action] + lr_rate * (target - predict)\n",
        "\n",
        "def learn(state, state2, reward, action):\n",
        "    old_value = Q[state, action]\n",
        "    learned_value = reward + gamma * np.max(Q[state2, :])\n",
        "    Q[state, action] = (1 - lr_rate) * old_value +  lr_rate * learned_value"
      ],
      "execution_count": 0,
      "outputs": []
    },
    {
      "cell_type": "code",
      "metadata": {
        "id": "UjzAPElj8ny_",
        "colab_type": "code",
        "outputId": "17cfedec-b0db-4b86-ed37-03828cf986b4",
        "colab": {
          "base_uri": "https://localhost:8080/",
          "height": 299
        }
      },
      "source": [
        "Q = np.zeros((env.observation_space.n, env.action_space.n))\n",
        "\n",
        "# Start\n",
        "for episode in range(total_episodes):\n",
        "    state = env.reset()\n",
        "    t = 0\n",
        "    while t < max_steps:\n",
        "        #env.render()\n",
        "        action = choose_action(state)  \n",
        "        state2, reward, done, info = env.step(action)  \n",
        "        learn(state, state2, reward, action)\n",
        "        state = state2\n",
        "        t += 1\n",
        "        if done:\n",
        "            break\n",
        "\n",
        "print(Q)\n"
      ],
      "execution_count": 46,
      "outputs": [
        {
          "output_type": "stream",
          "text": [
            "[[7.17864968e-01 7.31080208e-01 6.18929503e-01 6.25141654e-01]\n",
            " [7.11877076e-04 3.61445682e-03 4.06002161e-01 5.38043281e-01]\n",
            " [5.62042016e-01 5.24711143e-01 5.37354430e-01 5.70266846e-01]\n",
            " [9.86366456e-02 5.50535395e-01 4.92386530e-01 5.08238613e-01]\n",
            " [7.70128692e-01 5.99771748e-01 2.31661095e-02 7.32323506e-01]\n",
            " [0.00000000e+00 0.00000000e+00 0.00000000e+00 0.00000000e+00]\n",
            " [4.64365203e-01 3.42010051e-05 2.61899401e-02 1.09245364e-01]\n",
            " [0.00000000e+00 0.00000000e+00 0.00000000e+00 0.00000000e+00]\n",
            " [6.74934506e-01 7.64780744e-01 7.55818492e-01 8.33349969e-01]\n",
            " [2.81449618e-02 8.14045854e-01 7.50238882e-01 1.33175223e-01]\n",
            " [7.67538481e-01 7.80295329e-01 7.98821147e-01 1.22338969e-01]\n",
            " [0.00000000e+00 0.00000000e+00 0.00000000e+00 0.00000000e+00]\n",
            " [0.00000000e+00 0.00000000e+00 0.00000000e+00 0.00000000e+00]\n",
            " [6.83791307e-01 8.43564899e-01 7.63645000e-01 9.30289797e-01]\n",
            " [9.31595580e-01 9.99634805e-01 9.99331633e-01 7.82640552e-01]\n",
            " [0.00000000e+00 0.00000000e+00 0.00000000e+00 0.00000000e+00]]\n"
          ],
          "name": "stdout"
        }
      ]
    },
    {
      "cell_type": "code",
      "metadata": {
        "id": "OKv3bfV_c7eA",
        "colab_type": "code",
        "colab": {}
      },
      "source": [
        ""
      ],
      "execution_count": 0,
      "outputs": []
    }
  ]
}