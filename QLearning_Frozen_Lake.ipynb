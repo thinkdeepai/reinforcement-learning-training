{
  "nbformat": 4,
  "nbformat_minor": 0,
  "metadata": {
    "kernelspec": {
      "display_name": "Python 3",
      "language": "python",
      "name": "python3"
    },
    "language_info": {
      "codemirror_mode": {
        "name": "ipython",
        "version": 3
      },
      "file_extension": ".py",
      "mimetype": "text/x-python",
      "name": "python",
      "nbconvert_exporter": "python",
      "pygments_lexer": "ipython3",
      "version": "3.6.4"
    },
    "colab": {
      "name": "QLearning Frozen Lake.ipynb",
      "provenance": [],
      "collapsed_sections": [],
      "include_colab_link": true
    }
  },
  "cells": [
    {
      "cell_type": "markdown",
      "metadata": {
        "id": "view-in-github",
        "colab_type": "text"
      },
      "source": [
        "<a href=\"https://colab.research.google.com/github/thinkdeepai/reinforcement-learning-training/blob/master/QLearning_Frozen_Lake.ipynb\" target=\"_parent\"><img src=\"https://colab.research.google.com/assets/colab-badge.svg\" alt=\"Open In Colab\"/></a>"
      ]
    },
    {
      "cell_type": "code",
      "metadata": {
        "id": "ruwCJBWx8nyy",
        "colab_type": "code",
        "colab": {}
      },
      "source": [
        "import gym\n",
        "import random\n",
        "import numpy as np\n",
        "import time, pickle, os"
      ],
      "execution_count": 0,
      "outputs": []
    },
    {
      "cell_type": "code",
      "metadata": {
        "id": "v2XOAonb8ny5",
        "colab_type": "code",
        "colab": {}
      },
      "source": [
        "env = gym.make('FrozenLake8x8-v0')\n",
        "env.reset()\n",
        "epsilon = 0.9\n",
        "total_episodes = 10000\n",
        "max_steps = 100\n",
        "lr_rate = 0.81\n",
        "gamma = 0.96\n"
      ],
      "execution_count": 0,
      "outputs": []
    },
    {
      "cell_type": "code",
      "metadata": {
        "id": "CKP6c0iD8ny8",
        "colab_type": "code",
        "colab": {}
      },
      "source": [
        "def choose_action(state):\n",
        "    action=0\n",
        "    if np.random.uniform(0, 1) < epsilon:\n",
        "        action = env.action_space.sample()\n",
        "    else:\n",
        "        action = np.argmax(Q[state, :])\n",
        "    return action\n",
        "\n",
        "def old_learn(state, state2, reward, action):\n",
        "    predict = Q[state, action]\n",
        "    target = reward + gamma * np.max(Q[state2, :])\n",
        "    Q[state, action] = Q[state, action] + lr_rate * (target - predict)\n",
        "\n",
        "def learn(state, state2, reward, action):\n",
        "    old_value = Q[state, action]\n",
        "    learned_value = reward + gamma * np.max(Q[state2, :])\n",
        "    Q[state, action] = (1 - lr_rate) * old_value +  lr_rate * learned_value"
      ],
      "execution_count": 0,
      "outputs": []
    },
    {
      "cell_type": "code",
      "metadata": {
        "id": "UjzAPElj8ny_",
        "colab_type": "code",
        "outputId": "2503247b-7146-4ea6-b872-f91eecea4d0d",
        "colab": {
          "base_uri": "https://localhost:8080/",
          "height": 1000
        }
      },
      "source": [
        "Q = np.zeros((env.observation_space.n, env.action_space.n))\n",
        "\n",
        "# Start\n",
        "for episode in range(total_episodes):\n",
        "    state = env.reset()\n",
        "    t = 0\n",
        "    while t < max_steps:\n",
        "        #env.render()\n",
        "        action = choose_action(state)  \n",
        "        state2, reward, done, info = env.step(action)  \n",
        "        learn(state, state2, reward, action)\n",
        "        state = state2\n",
        "        t += 1\n",
        "        if done:\n",
        "            break\n",
        "\n",
        "print(Q)\n"
      ],
      "execution_count": 51,
      "outputs": [
        {
          "output_type": "stream",
          "text": [
            "[[4.01734871e-01 3.96545486e-01 3.97943665e-01 3.98884776e-01]\n",
            " [4.04834766e-01 3.96815318e-01 4.44070841e-01 4.02630992e-01]\n",
            " [4.11269571e-01 4.67206771e-01 4.44343147e-01 4.46723826e-01]\n",
            " [4.86605893e-01 5.19676838e-01 4.80513368e-01 4.73887811e-01]\n",
            " [5.07350967e-01 5.57588587e-01 5.17932810e-01 4.89098710e-01]\n",
            " [5.25576448e-01 5.27945166e-01 5.59517726e-01 5.42111269e-01]\n",
            " [5.65182770e-01 5.41692033e-01 5.68451891e-01 5.54124978e-01]\n",
            " [5.85574058e-01 5.88870124e-01 5.88623355e-01 5.64332856e-01]\n",
            " [3.85325215e-01 4.18519448e-01 4.00100461e-01 4.01611529e-01]\n",
            " [3.98582866e-01 3.97131688e-01 4.36011330e-01 4.37998943e-01]\n",
            " [4.06516929e-01 4.73560357e-01 4.28418073e-01 4.23093517e-01]\n",
            " [1.50652537e-02 5.07114723e-01 7.07203014e-02 4.72669219e-01]\n",
            " [5.04593251e-01 4.79008765e-01 5.09577351e-01 5.24066428e-01]\n",
            " [5.20463633e-01 5.29290560e-01 5.24900056e-01 5.80113289e-01]\n",
            " [6.26777257e-01 5.63412022e-01 5.97138391e-01 5.96801287e-01]\n",
            " [6.46555911e-01 5.80666337e-01 5.70135470e-01 5.76529680e-01]\n",
            " [3.64410854e-01 3.64232989e-01 3.62765089e-01 4.01822404e-01]\n",
            " [3.89252856e-01 3.85643672e-01 4.15959973e-01 4.12506921e-01]\n",
            " [4.01103509e-01 1.33731348e-02 1.18434091e-02 3.59649281e-01]\n",
            " [0.00000000e+00 0.00000000e+00 0.00000000e+00 0.00000000e+00]\n",
            " [5.23487207e-01 9.43414136e-02 5.02205980e-01 2.09587825e-02]\n",
            " [5.41708639e-01 6.13255582e-01 5.41074867e-01 6.06912369e-01]\n",
            " [6.73134241e-01 6.15633469e-01 6.77106379e-01 5.86927877e-01]\n",
            " [6.48501712e-01 6.81432928e-01 5.98072053e-01 6.40541573e-01]\n",
            " [3.60262647e-01 3.78787667e-01 3.71437903e-01 3.82793960e-01]\n",
            " [3.59338019e-01 3.94201719e-01 4.04100682e-01 3.90901729e-01]\n",
            " [4.03831483e-01 3.94031489e-01 3.91955449e-01 3.88825903e-01]\n",
            " [7.14599912e-02 4.10054933e-01 1.43265019e-02 8.29214450e-02]\n",
            " [4.11280461e-01 9.97087074e-02 1.91055012e-02 3.35078896e-01]\n",
            " [0.00000000e+00 0.00000000e+00 0.00000000e+00 0.00000000e+00]\n",
            " [7.10591218e-01 1.14222293e-01 6.42599606e-01 1.02388096e-01]\n",
            " [7.41736256e-01 6.78818808e-01 6.95690886e-01 6.56892697e-01]\n",
            " [3.46796008e-01 3.46632641e-01 3.18152824e-01 3.41186208e-01]\n",
            " [5.85476145e-02 6.34382604e-02 3.52415015e-02 1.20680407e-01]\n",
            " [2.10768827e-01 8.45105340e-08 5.81635398e-02 2.60097468e-01]\n",
            " [0.00000000e+00 0.00000000e+00 0.00000000e+00 0.00000000e+00]\n",
            " [9.86859781e-02 1.06781320e-01 6.56267437e-01 8.46483036e-02]\n",
            " [5.31235070e-01 6.85306902e-01 3.46983932e-03 5.10893018e-01]\n",
            " [6.72324724e-01 1.06144603e-01 7.56932707e-01 7.31922895e-01]\n",
            " [7.25169459e-01 7.88287569e-01 7.98526495e-01 7.31644195e-01]\n",
            " [2.91096010e-01 2.42899030e-01 2.99577249e-01 3.15708196e-01]\n",
            " [0.00000000e+00 0.00000000e+00 0.00000000e+00 0.00000000e+00]\n",
            " [0.00000000e+00 0.00000000e+00 0.00000000e+00 0.00000000e+00]\n",
            " [1.04792543e-02 4.28901388e-01 1.09618211e-01 1.43645431e-02]\n",
            " [5.13621430e-01 5.55757671e-01 5.58039819e-01 5.49974670e-01]\n",
            " [5.35103410e-01 1.05862120e-01 3.98461707e-01 5.70295182e-01]\n",
            " [0.00000000e+00 0.00000000e+00 0.00000000e+00 0.00000000e+00]\n",
            " [7.72340366e-01 3.09022584e-02 8.11592132e-01 2.35267270e-02]\n",
            " [2.10368144e-01 2.11330013e-01 9.65411294e-03 5.19344770e-02]\n",
            " [0.00000000e+00 0.00000000e+00 0.00000000e+00 0.00000000e+00]\n",
            " [4.78256401e-03 5.49673680e-02 3.38088554e-02 2.59732647e-01]\n",
            " [3.17795133e-02 0.00000000e+00 6.88870591e-02 6.34634811e-02]\n",
            " [0.00000000e+00 0.00000000e+00 0.00000000e+00 0.00000000e+00]\n",
            " [5.67114999e-01 0.00000000e+00 4.21972458e-01 0.00000000e+00]\n",
            " [0.00000000e+00 0.00000000e+00 0.00000000e+00 0.00000000e+00]\n",
            " [1.80020534e-01 8.15681314e-01 8.19570115e-01 1.26630057e-01]\n",
            " [2.04414127e-01 2.04447976e-01 2.08835570e-01 2.04944526e-01]\n",
            " [2.03940420e-01 2.10308181e-01 1.70537417e-01 1.87987463e-01]\n",
            " [2.44313580e-01 1.94499337e-01 2.32641130e-01 2.03072120e-01]\n",
            " [0.00000000e+00 0.00000000e+00 0.00000000e+00 0.00000000e+00]\n",
            " [0.00000000e+00 0.00000000e+00 0.00000000e+00 0.00000000e+00]\n",
            " [3.32591208e-01 0.00000000e+00 0.00000000e+00 7.95210398e-02]\n",
            " [0.00000000e+00 0.00000000e+00 0.00000000e+00 8.10000000e-01]\n",
            " [0.00000000e+00 0.00000000e+00 0.00000000e+00 0.00000000e+00]]\n"
          ],
          "name": "stdout"
        }
      ]
    },
    {
      "cell_type": "code",
      "metadata": {
        "id": "OKv3bfV_c7eA",
        "colab_type": "code",
        "colab": {}
      },
      "source": [
        ""
      ],
      "execution_count": 0,
      "outputs": []
    }
  ]
}