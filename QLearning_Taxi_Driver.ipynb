{
  "nbformat": 4,
  "nbformat_minor": 0,
  "metadata": {
    "kernelspec": {
      "display_name": "Python 3",
      "language": "python",
      "name": "python3"
    },
    "language_info": {
      "codemirror_mode": {
        "name": "ipython",
        "version": 3
      },
      "file_extension": ".py",
      "mimetype": "text/x-python",
      "name": "python",
      "nbconvert_exporter": "python",
      "pygments_lexer": "ipython3",
      "version": "3.6.4"
    },
    "colab": {
      "name": "QLearning Taxi Driver.ipynb",
      "provenance": [],
      "collapsed_sections": [],
      "include_colab_link": true
    }
  },
  "cells": [
    {
      "cell_type": "markdown",
      "metadata": {
        "id": "view-in-github",
        "colab_type": "text"
      },
      "source": [
        "<a href=\"https://colab.research.google.com/github/thinkdeepai/reinforcement-learning-training/blob/master/QLearning_Taxi_Driver.ipynb\" target=\"_parent\"><img src=\"https://colab.research.google.com/assets/colab-badge.svg\" alt=\"Open In Colab\"/></a>"
      ]
    },
    {
      "cell_type": "code",
      "metadata": {
        "id": "ruwCJBWx8nyy",
        "colab_type": "code",
        "colab": {}
      },
      "source": [
        "import gym\n",
        "import random\n",
        "import numpy as np\n",
        "import time, pickle, os"
      ],
      "execution_count": 0,
      "outputs": []
    },
    {
      "cell_type": "code",
      "metadata": {
        "id": "v2XOAonb8ny5",
        "colab_type": "code",
        "colab": {}
      },
      "source": [
        "env = gym.make('Taxi-v3')\n",
        "env.reset()\n",
        "epsilon = 0.9\n",
        "total_episodes = 10000\n",
        "max_steps = 100\n",
        "lr_rate = 0.81\n",
        "gamma = 0.96\n"
      ],
      "execution_count": 0,
      "outputs": []
    },
    {
      "cell_type": "code",
      "metadata": {
        "id": "CKP6c0iD8ny8",
        "colab_type": "code",
        "colab": {}
      },
      "source": [
        "def choose_action(state):\n",
        "    action=0\n",
        "    if np.random.uniform(0, 1) < epsilon:\n",
        "        action = env.action_space.sample()\n",
        "    else:\n",
        "        action = np.argmax(Q[state, :])\n",
        "    return action\n",
        "\n",
        "def learn(state, state2, reward, action):\n",
        "    old_value = Q[state, action]\n",
        "    learned_value = reward + gamma * np.max(Q[state2, :])\n",
        "    Q[state, action] = (1 - lr_rate) * old_value +  lr_rate * learned_value"
      ],
      "execution_count": 0,
      "outputs": []
    },
    {
      "cell_type": "code",
      "metadata": {
        "id": "UjzAPElj8ny_",
        "colab_type": "code",
        "outputId": "108fbe93-32b2-44fd-9f6e-18b1c352218b",
        "colab": {
          "base_uri": "https://localhost:8080/",
          "height": 140
        }
      },
      "source": [
        "Q = np.zeros((env.observation_space.n, env.action_space.n))\n",
        "\n",
        "# Start\n",
        "for episode in range(total_episodes):\n",
        "    state = env.reset()\n",
        "    t = 0\n",
        "    while t < max_steps:\n",
        "        #env.render()\n",
        "        action = choose_action(state)  \n",
        "        state2, reward, done, info = env.step(action)  \n",
        "        learn(state, state2, reward, action)\n",
        "        state = state2\n",
        "        t += 1\n",
        "        if done:\n",
        "            break\n",
        "\n",
        "print(Q)\n",
        "\n",
        "\n"
      ],
      "execution_count": 5,
      "outputs": [
        {
          "output_type": "stream",
          "text": [
            "[[ 0.          0.          0.          0.          0.          0.        ]\n",
            " [ 3.72076987  4.91746862  3.72076987  4.91746862  6.16402981 -4.08253138]\n",
            " [ 8.81513651 10.22410054  8.81513651 10.22410054 11.69177139  1.22410054]\n",
            " ...\n",
            " [11.69177139 13.2205952  11.69177139 10.22410054  2.69177139  2.69177139]\n",
            " [ 6.16402981  7.46253105  6.16402981  7.46253105 -2.83597019 -2.83597019]\n",
            " [16.472      14.81312    16.472      18.2         7.472       7.472     ]]\n"
          ],
          "name": "stdout"
        }
      ]
    },
    {
      "cell_type": "code",
      "metadata": {
        "id": "0ybe7ywooO-D",
        "colab_type": "code",
        "colab": {}
      },
      "source": [
        "np.save(\"qtable-taxi\", Q)"
      ],
      "execution_count": 0,
      "outputs": []
    },
    {
      "cell_type": "code",
      "metadata": {
        "id": "OKv3bfV_c7eA",
        "colab_type": "code",
        "colab": {}
      },
      "source": [
        "#Q = np.load(\"qtable-taxi.npy\")"
      ],
      "execution_count": 0,
      "outputs": []
    },
    {
      "cell_type": "code",
      "metadata": {
        "id": "aslWnk6XmrNG",
        "colab_type": "code",
        "colab": {}
      },
      "source": [
        "\"\"\"Evaluate agent's performance after Q-learning\"\"\"\n",
        "def evaluate(random_mode=False):\n",
        "  total_epochs, total_rewards = 0, 0\n",
        "\n",
        "  for _ in range(total_episodes):\n",
        "      state = env.reset()\n",
        "      epochs, reward = 0, 0\n",
        "      done = False\n",
        "      while not done:\n",
        "          if random_mode:\n",
        "            action = env.action_space.sample()\n",
        "          else:\n",
        "            action = np.argmax(Q[state, :])\n",
        "          state, reward, done, info = env.step(action)\n",
        "\n",
        "          epochs += 1\n",
        "\n",
        "      total_rewards += reward\n",
        "      total_epochs += epochs\n",
        "\n",
        "  print(f\"Results after {total_episodes} episodes:\")\n",
        "  print(f\"Average timesteps per episode: {total_epochs / total_episodes}\")\n",
        "  print(f\"Average rewards per episode: {total_rewards / total_episodes}\")"
      ],
      "execution_count": 0,
      "outputs": []
    },
    {
      "cell_type": "code",
      "metadata": {
        "id": "7IYgkfkBo-xP",
        "colab_type": "code",
        "outputId": "ad280b96-0c8a-4e86-994c-2e5c5499502d",
        "colab": {
          "base_uri": "https://localhost:8080/",
          "height": 70
        }
      },
      "source": [
        "evaluate(random_mode=True)"
      ],
      "execution_count": 23,
      "outputs": [
        {
          "output_type": "stream",
          "text": [
            "Results after 10000 episodes:\n",
            "Average timesteps per episode: 196.5861\n",
            "Average rewards per episode: -2.8489\n"
          ],
          "name": "stdout"
        }
      ]
    },
    {
      "cell_type": "code",
      "metadata": {
        "id": "QU6PpqhSps9G",
        "colab_type": "code",
        "colab": {
          "base_uri": "https://localhost:8080/",
          "height": 70
        },
        "outputId": "52b6e36b-571e-413b-9709-fad7354238b1"
      },
      "source": [
        "evaluate(random_mode=False)"
      ],
      "execution_count": 24,
      "outputs": [
        {
          "output_type": "stream",
          "text": [
            "Results after 10000 episodes:\n",
            "Average timesteps per episode: 13.083\n",
            "Average rewards per episode: 20.0\n"
          ],
          "name": "stdout"
        }
      ]
    },
    {
      "cell_type": "code",
      "metadata": {
        "id": "JxNYUuOqvzps",
        "colab_type": "code",
        "colab": {}
      },
      "source": [
        ""
      ],
      "execution_count": 0,
      "outputs": []
    }
  ]
}