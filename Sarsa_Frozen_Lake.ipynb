{
  "nbformat": 4,
  "nbformat_minor": 0,
  "metadata": {
    "kernelspec": {
      "display_name": "Python 3",
      "language": "python",
      "name": "python3"
    },
    "language_info": {
      "codemirror_mode": {
        "name": "ipython",
        "version": 3
      },
      "file_extension": ".py",
      "mimetype": "text/x-python",
      "name": "python",
      "nbconvert_exporter": "python",
      "pygments_lexer": "ipython3",
      "version": "3.6.4"
    },
    "colab": {
      "name": "Sarsa Frozen Lake.ipynb",
      "provenance": [],
      "collapsed_sections": [],
      "include_colab_link": true
    }
  },
  "cells": [
    {
      "cell_type": "markdown",
      "metadata": {
        "id": "view-in-github",
        "colab_type": "text"
      },
      "source": [
        "<a href=\"https://colab.research.google.com/github/thinkdeepai/reinforcement-learning-training/blob/master/Sarsa_Frozen_Lake.ipynb\" target=\"_parent\"><img src=\"https://colab.research.google.com/assets/colab-badge.svg\" alt=\"Open In Colab\"/></a>"
      ]
    },
    {
      "cell_type": "code",
      "metadata": {
        "id": "ruwCJBWx8nyy",
        "colab_type": "code",
        "colab": {}
      },
      "source": [
        "import gym\n",
        "import random\n",
        "import numpy as np\n",
        "import time, pickle, os"
      ],
      "execution_count": 0,
      "outputs": []
    },
    {
      "cell_type": "code",
      "metadata": {
        "id": "v2XOAonb8ny5",
        "colab_type": "code",
        "colab": {}
      },
      "source": [
        "env = gym.make('FrozenLake-v0')\n",
        "env.reset()\n",
        "epsilon = 0.9\n",
        "total_episodes = 10000\n",
        "max_steps = 100\n",
        "lr_rate = 0.81\n",
        "gamma = 0.96\n"
      ],
      "execution_count": 0,
      "outputs": []
    },
    {
      "cell_type": "code",
      "metadata": {
        "id": "CKP6c0iD8ny8",
        "colab_type": "code",
        "colab": {}
      },
      "source": [
        "def choose_action(state):\n",
        "    action=0\n",
        "    if np.random.uniform(0, 1) < epsilon:\n",
        "        action = env.action_space.sample()\n",
        "    else:\n",
        "        action = np.argmax(Q[state, :])\n",
        "    return action\n",
        "\n",
        "def qlearning_learn(state, state2, reward, action):\n",
        "    old_value = Q[state, action]\n",
        "    learned_value = reward + gamma * np.max(Q[state2, :])\n",
        "    Q[state, action] = (1 - lr_rate) * old_value +  lr_rate * learned_value\n",
        "\n",
        "def sarsa_learn(state, state2, reward, action, action2):\n",
        "    old_value = Q[state, action]\n",
        "    learned_value = reward + gamma * Q[state2, action2]\n",
        "    Q[state, action] = (1 - lr_rate) * old_value +  lr_rate * learned_value    "
      ],
      "execution_count": 0,
      "outputs": []
    },
    {
      "cell_type": "code",
      "metadata": {
        "id": "UjzAPElj8ny_",
        "colab_type": "code",
        "outputId": "29747e98-2984-4c7c-b4c2-919922dc257d",
        "colab": {
          "base_uri": "https://localhost:8080/",
          "height": 299
        }
      },
      "source": [
        "Q = np.zeros((env.observation_space.n, env.action_space.n))\n",
        "\n",
        "# Start\n",
        "for episode in range(total_episodes):\n",
        "    state = env.reset()\n",
        "    action = choose_action(state)  \n",
        "    t = 0\n",
        "    while t < max_steps:\n",
        "        #env.render()\n",
        "        state2, reward, done, info = env.step(action)\n",
        "        action2 = choose_action(state2)  \n",
        "        sarsa_learn(state, state2, reward, action, action2)\n",
        "        state = state2\n",
        "        action = action2\n",
        "        t += 1\n",
        "        if done:\n",
        "            break\n",
        "\n",
        "print(Q)\n",
        "\n",
        "\n"
      ],
      "execution_count": 5,
      "outputs": [
        {
          "output_type": "stream",
          "text": [
            "[[2.14396734e-02 7.90446913e-03 8.17581270e-03 4.15357927e-03]\n",
            " [6.10721562e-03 1.11365444e-03 4.03015349e-04 3.12293168e-03]\n",
            " [8.10069842e-02 2.24281956e-02 2.19682785e-02 1.40468927e-02]\n",
            " [2.53869383e-03 2.95102559e-03 1.70069433e-03 6.37731120e-02]\n",
            " [8.32873064e-03 5.32504781e-03 5.87363913e-03 4.28842820e-05]\n",
            " [0.00000000e+00 0.00000000e+00 0.00000000e+00 0.00000000e+00]\n",
            " [7.54651080e-04 5.64190874e-03 1.19221210e-02 3.89182040e-04]\n",
            " [0.00000000e+00 0.00000000e+00 0.00000000e+00 0.00000000e+00]\n",
            " [2.36717009e-03 7.67174446e-03 1.69325350e-03 3.70731510e-02]\n",
            " [4.35303650e-02 2.60168958e-01 1.93773413e-01 2.23026894e-02]\n",
            " [1.59210878e-01 3.96009740e-01 5.43769186e-03 4.62334665e-03]\n",
            " [0.00000000e+00 0.00000000e+00 0.00000000e+00 0.00000000e+00]\n",
            " [0.00000000e+00 0.00000000e+00 0.00000000e+00 0.00000000e+00]\n",
            " [1.16505191e-01 5.80190462e-01 1.43500993e-01 5.84963170e-02]\n",
            " [8.23366646e-01 9.80314868e-01 2.81277096e-02 5.27584490e-01]\n",
            " [0.00000000e+00 0.00000000e+00 0.00000000e+00 0.00000000e+00]]\n"
          ],
          "name": "stdout"
        }
      ]
    },
    {
      "cell_type": "code",
      "metadata": {
        "id": "aslWnk6XmrNG",
        "colab_type": "code",
        "colab": {}
      },
      "source": [
        "\"\"\"Evaluate agent's performance after Q-learning\"\"\"\n",
        "def evaluate(rnd=False):\n",
        "  total_epochs, total_penalties = 0, 0\n",
        "\n",
        "  for _ in range(total_episodes):\n",
        "      state = env.reset()\n",
        "      epochs, penalties, reward = 0, 0, 0\n",
        "      \n",
        "      done = False\n",
        "      while not done:\n",
        "          if rnd:\n",
        "            action = env.action_space.sample()\n",
        "          else:\n",
        "            action = np.argmax(Q[state, :])\n",
        "          \n",
        "          state, reward, done, info = env.step(action)\n",
        "          if reward < 0:\n",
        "              penalties += 1\n",
        "\n",
        "          epochs += 1\n",
        "\n",
        "      total_penalties += penalties\n",
        "      total_epochs += epochs\n",
        "\n",
        "  print(f\"Results after {total_episodes} episodes:\")\n",
        "  print(f\"Average timesteps per episode: {total_epochs / total_episodes}\")\n",
        "  print(f\"Average penalties per episode: {total_penalties / total_episodes}\")"
      ],
      "execution_count": 0,
      "outputs": []
    },
    {
      "cell_type": "code",
      "metadata": {
        "id": "7IYgkfkBo-xP",
        "colab_type": "code",
        "outputId": "b00e81f8-cf74-4c2c-cc47-e93360584a84",
        "colab": {
          "base_uri": "https://localhost:8080/",
          "height": 70
        }
      },
      "source": [
        "evaluate()"
      ],
      "execution_count": 7,
      "outputs": [
        {
          "output_type": "stream",
          "text": [
            "Results after 10000 episodes:\n",
            "Average timesteps per episode: 28.0007\n",
            "Average penalties per episode: 0.0\n"
          ],
          "name": "stdout"
        }
      ]
    },
    {
      "cell_type": "code",
      "metadata": {
        "id": "QU6PpqhSps9G",
        "colab_type": "code",
        "colab": {}
      },
      "source": [
        ""
      ],
      "execution_count": 0,
      "outputs": []
    }
  ]
}